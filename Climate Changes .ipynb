{
 "cells": [
  {
   "cell_type": "code",
   "execution_count": 1,
   "id": "f2209637",
   "metadata": {},
   "outputs": [],
   "source": [
    "# Importing the libraries\n",
    "import numpy as np \n",
    "import pandas as pd \n",
    "import matplotlib.pyplot as plt\n",
    "import seaborn as sns\n",
    "from sklearn import metrics "
   ]
  },
  {
   "cell_type": "code",
   "execution_count": 2,
   "id": "d1d6e1a1",
   "metadata": {},
   "outputs": [],
   "source": [
    "from lazypredict.Supervised import LazyRegressor\n"
   ]
  },
  {
   "cell_type": "code",
   "execution_count": 3,
   "id": "8f0935a7",
   "metadata": {},
   "outputs": [],
   "source": [
    "# Importing the dataset\n",
    "dataset  = pd.read_csv(\"D:\\climate-ds.csv\")"
   ]
  },
  {
   "cell_type": "code",
   "execution_count": 4,
   "id": "6af83c8d",
   "metadata": {},
   "outputs": [
    {
     "name": "stdout",
     "output_type": "stream",
     "text": [
      "Unnamed: 0                       0\n",
      "Area                             0\n",
      "Item                             0\n",
      "Year                             0\n",
      "average_rain_fall_mm_per_year    0\n",
      "pesticides_tonnes                0\n",
      "avg_temp                         0\n",
      "hg/ha_yield                      0\n",
      "dtype: int64\n"
     ]
    },
    {
     "data": {
      "text/html": [
       "<div>\n",
       "<style scoped>\n",
       "    .dataframe tbody tr th:only-of-type {\n",
       "        vertical-align: middle;\n",
       "    }\n",
       "\n",
       "    .dataframe tbody tr th {\n",
       "        vertical-align: top;\n",
       "    }\n",
       "\n",
       "    .dataframe thead th {\n",
       "        text-align: right;\n",
       "    }\n",
       "</style>\n",
       "<table border=\"1\" class=\"dataframe\">\n",
       "  <thead>\n",
       "    <tr style=\"text-align: right;\">\n",
       "      <th></th>\n",
       "      <th>Unnamed: 0</th>\n",
       "      <th>Area</th>\n",
       "      <th>Item</th>\n",
       "      <th>Year</th>\n",
       "      <th>average_rain_fall_mm_per_year</th>\n",
       "      <th>pesticides_tonnes</th>\n",
       "      <th>avg_temp</th>\n",
       "      <th>hg/ha_yield</th>\n",
       "    </tr>\n",
       "  </thead>\n",
       "  <tbody>\n",
       "    <tr>\n",
       "      <th>0</th>\n",
       "      <td>0</td>\n",
       "      <td>Albania</td>\n",
       "      <td>Maize</td>\n",
       "      <td>1990</td>\n",
       "      <td>1485</td>\n",
       "      <td>121.00</td>\n",
       "      <td>16.37</td>\n",
       "      <td>36613</td>\n",
       "    </tr>\n",
       "    <tr>\n",
       "      <th>1</th>\n",
       "      <td>1</td>\n",
       "      <td>Albania</td>\n",
       "      <td>Potatoes</td>\n",
       "      <td>1990</td>\n",
       "      <td>1485</td>\n",
       "      <td>121.00</td>\n",
       "      <td>16.37</td>\n",
       "      <td>66667</td>\n",
       "    </tr>\n",
       "    <tr>\n",
       "      <th>2</th>\n",
       "      <td>2</td>\n",
       "      <td>Albania</td>\n",
       "      <td>Rice, paddy</td>\n",
       "      <td>1990</td>\n",
       "      <td>1485</td>\n",
       "      <td>121.00</td>\n",
       "      <td>16.37</td>\n",
       "      <td>23333</td>\n",
       "    </tr>\n",
       "    <tr>\n",
       "      <th>3</th>\n",
       "      <td>3</td>\n",
       "      <td>Albania</td>\n",
       "      <td>Sorghum</td>\n",
       "      <td>1990</td>\n",
       "      <td>1485</td>\n",
       "      <td>121.00</td>\n",
       "      <td>16.37</td>\n",
       "      <td>12500</td>\n",
       "    </tr>\n",
       "    <tr>\n",
       "      <th>4</th>\n",
       "      <td>4</td>\n",
       "      <td>Albania</td>\n",
       "      <td>Soybeans</td>\n",
       "      <td>1990</td>\n",
       "      <td>1485</td>\n",
       "      <td>121.00</td>\n",
       "      <td>16.37</td>\n",
       "      <td>7000</td>\n",
       "    </tr>\n",
       "  </tbody>\n",
       "</table>\n",
       "</div>"
      ],
      "text/plain": [
       "   Unnamed: 0     Area         Item  Year  average_rain_fall_mm_per_year  \\\n",
       "0           0  Albania        Maize  1990                           1485   \n",
       "1           1  Albania     Potatoes  1990                           1485   \n",
       "2           2  Albania  Rice, paddy  1990                           1485   \n",
       "3           3  Albania      Sorghum  1990                           1485   \n",
       "4           4  Albania     Soybeans  1990                           1485   \n",
       "\n",
       "   pesticides_tonnes  avg_temp  hg/ha_yield  \n",
       "0             121.00     16.37        36613  \n",
       "1             121.00     16.37        66667  \n",
       "2             121.00     16.37        23333  \n",
       "3             121.00     16.37        12500  \n",
       "4             121.00     16.37         7000  "
      ]
     },
     "execution_count": 4,
     "metadata": {},
     "output_type": "execute_result"
    }
   ],
   "source": [
    "# Cheking the null value \n",
    "print(dataset.isnull().sum())\n",
    "\n",
    "# Show a head of data \n",
    "dataset.head()"
   ]
  },
  {
   "cell_type": "code",
   "execution_count": 5,
   "id": "2cd9ef55",
   "metadata": {},
   "outputs": [],
   "source": [
    "# delete first coulm \n",
    "dataset = dataset.drop('Unnamed: 0',axis=1)\n",
    "# turn the string to digit\n",
    "from sklearn.preprocessing import LabelEncoder\n",
    "le = LabelEncoder()\n",
    "dataset.iloc[:,0] = le.fit_transform(dataset.iloc[:,0])\n",
    "dataset.iloc[:,1] = le.fit_transform(dataset.iloc[:,1])\n",
    "\n"
   ]
  },
  {
   "cell_type": "code",
   "execution_count": 20,
   "id": "aaaa8110",
   "metadata": {},
   "outputs": [
    {
     "data": {
      "image/png": "[encoded data removed]",
      "text/plain": [
       "<Figure size 432x432 with 1 Axes>"
      ]
     },
     "metadata": {
      "needs_background": "light"
     },
     "output_type": "display_data"
    }
   ],
   "source": [
    "# Plot feature (Area)\n",
    "plt.figure(figsize=(6,6))\n",
    "sns.distplot(dataset['Area'])\n",
    "plt.title('Area Distribution')\n",
    "plt.show()"
   ]
  },
  {
   "cell_type": "code",
   "execution_count": 6,
   "id": "5b84619e",
   "metadata": {},
   "outputs": [
    {
     "data": {
      "image/png": "[encoded data removed]",
      "text/plain": [
       "<Figure size 432x432 with 1 Axes>"
      ]
     },
     "metadata": {
      "needs_background": "light"
     },
     "output_type": "display_data"
    }
   ],
   "source": [
    "# Plot feature (Item)\n",
    "plt.figure(figsize=(6,6))\n",
    "sns.countplot(x='Item', data=dataset)\n",
    "plt.title('Item Distribution')\n",
    "plt.show() "
   ]
  },
  {
   "cell_type": "code",
   "execution_count": 9,
   "id": "8cf0bb27",
   "metadata": {},
   "outputs": [
    {
     "data": {
      "image/png": "[encoded data removed]",
      "text/plain": [
       "<Figure size 432x432 with 1 Axes>"
      ]
     },
     "metadata": {
      "needs_background": "light"
     },
     "output_type": "display_data"
    }
   ],
   "source": [
    "# Plot feature (Year)\n",
    "plt.figure(figsize=(6,6))\n",
    "sns.distplot(dataset['Year'])\n",
    "plt.title('Year Distribution')\n",
    "plt.show()"
   ]
  },
  {
   "cell_type": "code",
   "execution_count": 10,
   "id": "dd4de746",
   "metadata": {},
   "outputs": [
    {
     "data": {
      "image/png": "[encoded data removed]",
      "text/plain": [
       "<Figure size 432x432 with 1 Axes>"
      ]
     },
     "metadata": {
      "needs_background": "light"
     },
     "output_type": "display_data"
    }
   ],
   "source": [
    "# Plot feature (average_rain_fall_mm_per_year)\n",
    "plt.figure(figsize=(6,6))\n",
    "sns.distplot(dataset['average_rain_fall_mm_per_year'])\n",
    "plt.title('average_rain_fall_mm_per_year Distribution')\n",
    "plt.show()"
   ]
  },
  {
   "cell_type": "code",
   "execution_count": 11,
   "id": "af5d813f",
   "metadata": {},
   "outputs": [
    {
     "data": {
      "image/png": "[encoded data removed]",
      "text/plain": [
       "<Figure size 432x432 with 1 Axes>"
      ]
     },
     "metadata": {
      "needs_background": "light"
     },
     "output_type": "display_data"
    }
   ],
   "source": [
    "# Plot feature (pesticides_tonnes)\n",
    "plt.figure(figsize=(6,6))\n",
    "sns.distplot(dataset['pesticides_tonnes'])\n",
    "plt.title('pesticides_tonnes Distribution')\n",
    "plt.show()"
   ]
  },
  {
   "cell_type": "code",
   "execution_count": 12,
   "id": "0cbb316c",
   "metadata": {},
   "outputs": [
    {
     "data": {
      "image/png": "[encoded data removed]",
      "text/plain": [
       "<Figure size 432x432 with 1 Axes>"
      ]
     },
     "metadata": {
      "needs_background": "light"
     },
     "output_type": "display_data"
    }
   ],
   "source": [
    "# Plot feature (avg_temp)\n",
    "plt.figure(figsize=(6,6))\n",
    "sns.distplot(dataset['avg_temp'])\n",
    "plt.title('avg_temp Distribution')\n",
    "plt.show()"
   ]
  },
  {
   "cell_type": "code",
   "execution_count": 15,
   "id": "bab17d49",
   "metadata": {},
   "outputs": [
    {
     "data": {
      "text/html": [
       "<div>\n",
       "<style scoped>\n",
       "    .dataframe tbody tr th:only-of-type {\n",
       "        vertical-align: middle;\n",
       "    }\n",
       "\n",
       "    .dataframe tbody tr th {\n",
       "        vertical-align: top;\n",
       "    }\n",
       "\n",
       "    .dataframe thead th {\n",
       "        text-align: right;\n",
       "    }\n",
       "</style>\n",
       "<table border=\"1\" class=\"dataframe\">\n",
       "  <thead>\n",
       "    <tr style=\"text-align: right;\">\n",
       "      <th></th>\n",
       "      <th>Area</th>\n",
       "      <th>Item</th>\n",
       "      <th>Year</th>\n",
       "      <th>average_rain_fall_mm_per_year</th>\n",
       "      <th>pesticides_tonnes</th>\n",
       "      <th>avg_temp</th>\n",
       "      <th>hg/ha_yield</th>\n",
       "    </tr>\n",
       "  </thead>\n",
       "  <tbody>\n",
       "    <tr>\n",
       "      <th>0</th>\n",
       "      <td>0</td>\n",
       "      <td>1</td>\n",
       "      <td>1990</td>\n",
       "      <td>1485</td>\n",
       "      <td>121.00</td>\n",
       "      <td>16.37</td>\n",
       "      <td>36613</td>\n",
       "    </tr>\n",
       "    <tr>\n",
       "      <th>1</th>\n",
       "      <td>0</td>\n",
       "      <td>3</td>\n",
       "      <td>1990</td>\n",
       "      <td>1485</td>\n",
       "      <td>121.00</td>\n",
       "      <td>16.37</td>\n",
       "      <td>66667</td>\n",
       "    </tr>\n",
       "    <tr>\n",
       "      <th>2</th>\n",
       "      <td>0</td>\n",
       "      <td>4</td>\n",
       "      <td>1990</td>\n",
       "      <td>1485</td>\n",
       "      <td>121.00</td>\n",
       "      <td>16.37</td>\n",
       "      <td>23333</td>\n",
       "    </tr>\n",
       "    <tr>\n",
       "      <th>3</th>\n",
       "      <td>0</td>\n",
       "      <td>5</td>\n",
       "      <td>1990</td>\n",
       "      <td>1485</td>\n",
       "      <td>121.00</td>\n",
       "      <td>16.37</td>\n",
       "      <td>12500</td>\n",
       "    </tr>\n",
       "    <tr>\n",
       "      <th>4</th>\n",
       "      <td>0</td>\n",
       "      <td>6</td>\n",
       "      <td>1990</td>\n",
       "      <td>1485</td>\n",
       "      <td>121.00</td>\n",
       "      <td>16.37</td>\n",
       "      <td>7000</td>\n",
       "    </tr>\n",
       "  </tbody>\n",
       "</table>\n",
       "</div>"
      ],
      "text/plain": [
       "   Area  Item  Year  average_rain_fall_mm_per_year  pesticides_tonnes  \\\n",
       "0     0     1  1990                           1485             121.00   \n",
       "1     0     3  1990                           1485             121.00   \n",
       "2     0     4  1990                           1485             121.00   \n",
       "3     0     5  1990                           1485             121.00   \n",
       "4     0     6  1990                           1485             121.00   \n",
       "\n",
       "   avg_temp  hg/ha_yield  \n",
       "0     16.37        36613  \n",
       "1     16.37        66667  \n",
       "2     16.37        23333  \n",
       "3     16.37        12500  \n",
       "4     16.37         7000  "
      ]
     },
     "execution_count": 15,
     "metadata": {},
     "output_type": "execute_result"
    }
   ],
   "source": [
    "# Make X and Y\n",
    "X = dataset.iloc[:, :-1].values\n",
    "y = dataset.iloc[:, -1].values\n",
    "# Show a head of data \n",
    "dataset.head() \n"
   ]
  },
  {
   "cell_type": "code",
   "execution_count": 16,
   "id": "b9e1617c",
   "metadata": {},
   "outputs": [],
   "source": [
    "# Splitting the dataset into the Training set and Test set\n",
    "from sklearn.model_selection import train_test_split\n",
    "X_train, X_test, y_train, y_test = train_test_split(X, y, test_size = 0.2, random_state = 0)\n"
   ]
  },
  {
   "cell_type": "code",
   "execution_count": 17,
   "id": "e7715a8f",
   "metadata": {},
   "outputs": [],
   "source": [
    "# Feature Scaling\n",
    "from sklearn.preprocessing import StandardScaler\n",
    "sc = StandardScaler() # take an object from StandardScaler \n",
    "X_train = sc.fit_transform(X_train) # convert X_train \n",
    "X_test = sc.transform(X_test) # convert X_test "
   ]
  },
  {
   "cell_type": "code",
   "execution_count": 18,
   "id": "2c56571b",
   "metadata": {},
   "outputs": [
    {
     "name": "stderr",
     "output_type": "stream",
     "text": [
      " 24%|████████████████████                                                              | 10/41 [00:04<00:17,  1.78it/s]"
     ]
    },
    {
     "name": "stdout",
     "output_type": "stream",
     "text": [
      "GaussianProcessRegressor model failed to execute\n",
      "Unable to allocate 3.80 GiB for an array with shape (22593, 22593) and data type float64\n"
     ]
    },
    {
     "name": "stderr",
     "output_type": "stream",
     "text": [
      " 44%|████████████████████████████████████                                              | 18/41 [00:08<00:07,  2.99it/s]"
     ]
    },
    {
     "name": "stdout",
     "output_type": "stream",
     "text": [
      "KernelRidge model failed to execute\n",
      "Unable to allocate 3.80 GiB for an array with shape (22593, 22593) and data type float64\n"
     ]
    },
    {
     "name": "stderr",
     "output_type": "stream",
     "text": [
      "100%|██████████████████████████████████████████████████████████████████████████████████| 41/41 [02:10<00:00,  3.17s/it]"
     ]
    },
    {
     "name": "stdout",
     "output_type": "stream",
     "text": [
      "                               Adjusted R-Squared  R-Squared      RMSE  \\\n",
      "Model                                                                    \n",
      "ExtraTreesRegressor                          0.99       0.99   8622.74   \n",
      "RandomForestRegressor                        0.99       0.99  10281.48   \n",
      "BaggingRegressor                             0.98       0.98  11471.30   \n",
      "DecisionTreeRegressor                        0.98       0.98  12676.50   \n",
      "XGBRegressor                                 0.98       0.98  13597.53   \n",
      "ExtraTreeRegressor                           0.97       0.97  14664.33   \n",
      "LGBMRegressor                                0.96       0.96  17773.32   \n",
      "HistGradientBoostingRegressor                0.96       0.96  18039.81   \n",
      "KNeighborsRegressor                          0.92       0.92  24389.85   \n",
      "GradientBoostingRegressor                    0.82       0.82  36179.71   \n",
      "AdaBoostRegressor                            0.63       0.64  52216.48   \n",
      "PoissonRegressor                             0.08       0.08  82766.35   \n",
      "SGDRegressor                                 0.08       0.08  82778.20   \n",
      "LassoLars                                    0.08       0.08  82789.71   \n",
      "LassoCV                                      0.08       0.08  82789.74   \n",
      "Lasso                                        0.08       0.08  82789.88   \n",
      "LassoLarsCV                                  0.08       0.08  82789.89   \n",
      "TransformedTargetRegressor                   0.08       0.08  82789.89   \n",
      "Lars                                         0.08       0.08  82789.89   \n",
      "LarsCV                                       0.08       0.08  82789.89   \n",
      "LassoLarsIC                                  0.08       0.08  82789.89   \n",
      "LinearRegression                             0.08       0.08  82789.89   \n",
      "Ridge                                        0.08       0.08  82789.89   \n",
      "RidgeCV                                      0.08       0.08  82789.91   \n",
      "BayesianRidge                                0.08       0.08  82790.02   \n",
      "OrthogonalMatchingPursuitCV                  0.08       0.08  82825.80   \n",
      "ElasticNet                                   0.07       0.07  83270.67   \n",
      "TweedieRegressor                             0.06       0.06  83818.72   \n",
      "GammaRegressor                               0.06       0.06  83877.22   \n",
      "OrthogonalMatchingPursuit                    0.05       0.05  84244.68   \n",
      "ElasticNetCV                                 0.01       0.01  86128.33   \n",
      "MLPRegressor                                 0.00       0.00  86367.57   \n",
      "DummyRegressor                              -0.00      -0.00  86448.77   \n",
      "HuberRegressor                              -0.02      -0.02  87150.80   \n",
      "NuSVR                                       -0.03      -0.03  87871.81   \n",
      "PassiveAggressiveRegressor                  -0.12      -0.11  91233.34   \n",
      "SVR                                         -0.22      -0.21  95264.04   \n",
      "RANSACRegressor                             -0.32      -0.32  99183.91   \n",
      "LinearSVR                                   -0.52      -0.52 106446.17   \n",
      "\n",
      "                               Time Taken  \n",
      "Model                                      \n",
      "ExtraTreesRegressor                  3.00  \n",
      "RandomForestRegressor                5.37  \n",
      "BaggingRegressor                     0.56  \n",
      "DecisionTreeRegressor                0.11  \n",
      "XGBRegressor                         1.04  \n",
      "ExtraTreeRegressor                   0.07  \n",
      "LGBMRegressor                        0.29  \n",
      "HistGradientBoostingRegressor        1.41  \n",
      "KNeighborsRegressor                  0.16  \n",
      "GradientBoostingRegressor            1.68  \n",
      "AdaBoostRegressor                    0.38  \n",
      "PoissonRegressor                     0.05  \n",
      "SGDRegressor                         0.08  \n",
      "LassoLars                            0.03  \n",
      "LassoCV                              0.26  \n",
      "Lasso                                0.02  \n",
      "LassoLarsCV                          0.10  \n",
      "TransformedTargetRegressor           0.03  \n",
      "Lars                                 0.04  \n",
      "LarsCV                               0.08  \n",
      "LassoLarsIC                          0.03  \n",
      "LinearRegression                     0.03  \n",
      "Ridge                                0.02  \n",
      "RidgeCV                              0.04  \n",
      "BayesianRidge                        0.08  \n",
      "OrthogonalMatchingPursuitCV          0.05  \n",
      "ElasticNet                           0.04  \n",
      "TweedieRegressor                     0.03  \n",
      "GammaRegressor                       0.18  \n",
      "OrthogonalMatchingPursuit            0.03  \n",
      "ElasticNetCV                         0.32  \n",
      "MLPRegressor                        19.05  \n",
      "DummyRegressor                       0.03  \n",
      "HuberRegressor                       0.10  \n",
      "NuSVR                               47.17  \n",
      "PassiveAggressiveRegressor           0.11  \n",
      "SVR                                 47.77  \n",
      "RANSACRegressor                      0.15  \n",
      "LinearSVR                            0.03  \n"
     ]
    },
    {
     "name": "stderr",
     "output_type": "stream",
     "text": [
      "\n"
     ]
    }
   ],
   "source": [
    "# bulding model \n",
    "reg = LazyRegressor(verbose=0, ignore_warnings=False, custom_metric=None)\n",
    "models, predictions = reg.fit(X_train, X_test, y_train, y_test)\n",
    "\n",
    "print(models)"
   ]
  },
  {
   "cell_type": "code",
   "execution_count": null,
   "id": "ca6e244e",
   "metadata": {},
   "outputs": [],
   "source": []
  },
  {
   "cell_type": "code",
   "execution_count": null,
   "id": "debd97d5",
   "metadata": {},
   "outputs": [],
   "source": []
  }
 ],
 "metadata": {
  "kernelspec": {
   "display_name": "Python 3 (ipykernel)",
   "language": "python",
   "name": "python3"
  },
  "language_info": {
   "codemirror_mode": {
    "name": "ipython",
    "version": 3
   },
   "file_extension": ".py",
   "mimetype": "text/x-python",
   "name": "python",
   "nbconvert_exporter": "python",
   "pygments_lexer": "ipython3",
   "version": "3.9.7"
  }
 },
 "nbformat": 4,
 "nbformat_minor": 5
}
